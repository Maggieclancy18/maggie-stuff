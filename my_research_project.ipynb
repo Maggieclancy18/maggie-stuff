{
  "nbformat": 4,
  "nbformat_minor": 0,
  "metadata": {
    "colab": {
      "provenance": [],
      "authorship_tag": "ABX9TyNOAL5TAYQlhbJ0tMRyrXse",
      "include_colab_link": true
    },
    "kernelspec": {
      "name": "python3",
      "display_name": "Python 3"
    },
    "language_info": {
      "name": "python"
    }
  },
  "cells": [
    {
      "cell_type": "markdown",
      "metadata": {
        "id": "view-in-github",
        "colab_type": "text"
      },
      "source": [
        "<a href=\"https://colab.research.google.com/github/Maggieclancy18/maggie-stuff/blob/main/my_research_project.ipynb\" target=\"_parent\"><img src=\"https://colab.research.google.com/assets/colab-badge.svg\" alt=\"Open In Colab\"/></a>"
      ]
    },
    {
      "cell_type": "code",
      "execution_count": 3,
      "metadata": {
        "colab": {
          "base_uri": "https://localhost:8080/"
        },
        "id": "1MJ1XdIVDTCa",
        "outputId": "69c56638-797e-4efe-c46b-a6f5238d7cdf"
      },
      "outputs": [
        {
          "output_type": "stream",
          "name": "stdout",
          "text": [
            "   VIN (1-10)     County       City State  Postal Code  Model Year   Make  \\\n",
            "0  5YJSA1E65N     Yakima    Granger    WA      98932.0        2022  TESLA   \n",
            "1  KNDC3DLC5N     Yakima     Yakima    WA      98902.0        2022    KIA   \n",
            "2  5YJYGDEEXL  Snohomish    Everett    WA      98208.0        2020  TESLA   \n",
            "3  3C3CFFGE1G     Yakima     Yakima    WA      98908.0        2016   FIAT   \n",
            "4  KNDCC3LD5K     Kitsap  Bremerton    WA      98312.0        2019    KIA   \n",
            "\n",
            "     Model                   Electric Vehicle Type  \\\n",
            "0  MODEL S          Battery Electric Vehicle (BEV)   \n",
            "1      EV6          Battery Electric Vehicle (BEV)   \n",
            "2  MODEL Y          Battery Electric Vehicle (BEV)   \n",
            "3      500          Battery Electric Vehicle (BEV)   \n",
            "4     NIRO  Plug-in Hybrid Electric Vehicle (PHEV)   \n",
            "\n",
            "   Clean Alternative Fuel Vehicle (CAFV) Eligibility  Electric Range  \\\n",
            "0  Eligibility unknown as battery range has not b...             0.0   \n",
            "1  Eligibility unknown as battery range has not b...             0.0   \n",
            "2            Clean Alternative Fuel Vehicle Eligible           291.0   \n",
            "3            Clean Alternative Fuel Vehicle Eligible            84.0   \n",
            "4              Not eligible due to low battery range            26.0   \n",
            "\n",
            "   Base MSRP  Legislative District  DOL Vehicle ID  \\\n",
            "0        0.0                  15.0       187279214   \n",
            "1        0.0                  15.0       210098241   \n",
            "2        0.0                  44.0       121781950   \n",
            "3        0.0                  14.0       180778377   \n",
            "4        0.0                  26.0         2581225   \n",
            "\n",
            "              Vehicle Location        Electric Utility  2020 Census Tract  \n",
            "0   POINT (-120.1871 46.33949)              PACIFICORP       5.307700e+10  \n",
            "1  POINT (-120.52041 46.59751)              PACIFICORP       5.307700e+10  \n",
            "2  POINT (-122.18637 47.89251)  PUGET SOUND ENERGY INC       5.306104e+10  \n",
            "3  POINT (-120.60199 46.59817)              PACIFICORP       5.307700e+10  \n",
            "4  POINT (-122.65223 47.57192)  PUGET SOUND ENERGY INC       5.303508e+10  \n"
          ]
        }
      ],
      "source": [
        "import pandas as pd\n",
        "df = pd.read_csv(\"https://data.wa.gov/api/views/f6w7-q2d2/rows.csv?accessType=DOWNLOAD\")\n",
        "print(df.head())"
      ]
    }
  ]
}